{
 "cells": [
  {
   "cell_type": "markdown",
   "id": "371f0105-c63b-4c51-be81-ec5c962d2b25",
   "metadata": {},
   "source": [
    "# Reflective Report\n",
    "## Name: Sulaiman Yusuf Zakaria\n",
    "## ID: 47895810\n",
    "\n",
    "### Problem solving process and learning to use notebooks. (2 marks)\n",
    "\n",
    "During this learning journey, I faced many challenges that pushed me to think critically and creatively. I dealt with problems like syntax errors and struggled to understand functions. But through this, I learned to find solutions and understand the concepts behind the code. This helped me not just fix immediate issues but also deepen my overall understanding of programming. I used notebooks to jot down steps and try out code snippets. This approach let me experiment with different methods and see what worked best for my analyses.\n",
    "\n",
    "Using notebooks was a huge help in my learning process. Their interactive features let me run code and see results right away, making it easier to grasp new ideas. I also got better at documenting what I did, which is important for future reference. This practice not only improved my coding skills but also made it easier for me to share my findings with others. With all this experience, I feel more confident tackling programming challenges ahead and am excited to apply my skills to real projects. I believe that documenting my thought process and the steps taken during coding helped reinforce my learning and made it easier to revisit concepts later.\n",
    "\n",
    "### Progressed from the start of the unit, what are you interested in doing with this in the future?\n",
    "\n",
    "Throughout this unit, I grew a lot in my ability to use notebooks effectively. At first, I only knew the basics of Python, but the lessons and hands-on experiences really helped me grasp more complex concepts like data manipulation, visualization, and machine learning algorithms. Having a supportive tutor and clear materials made learning much easier and enjoyable. They guided me and answered my questions, which built my confidence as I faced different programming tasks. I learned to break down problems into smaller parts, which made finding solutions much more manageable.\n",
    "\n",
    "I aim to apply the abilities I've acquired in practical initiatives going forward, particularly in the areas of data analysis and machine learning. I want to use what I've learned to assist organizations in making data-driven decisions. This could entail trend analysis, outcome prediction, or process optimization. By investigating cutting-edge methods like deep learning and natural language processing, I also hope to expand my understanding of Python. I think these abilities will enable me to contribute significantly to the fields of data science and technology. In addition, I am excited to work on projects with others since I think creative ideas can come from teamwork. I'm excited about this continuous learning process and am looking forward to the challenges and opportunities that my career will present.\n",
    "\n",
    "I am especially curious about the applications of data analysis in areas like environmental science and healthcare. I want to help develop solutions that tackle urgent problems like air pollution and public health emergencies by comprehending the patterns and trends in data. I envision a day in the future when I can work on initiatives that will improve society while simultaneously advancing my professional abilities.\n",
    "\n",
    "### Discussion points based on portfolio 4\n",
    "#### 1) Why you choose the dataset you have used for your portfolio?\n",
    "\n",
    "I chose the air quality dataset because air pollution is a big and growing issue that affects public health. The dataset has lots of information about air quality indicators, including CO (Carbon Monoxide) and C6H6 (Benzene). These pollutants can harm health, so it’s important to understand their levels and sources. The dataset covers various locations and times, allowing for a comprehensive analysis of trends over time and differences between regions.\n",
    "\n",
    "By analyzing this dataset, I want to find patterns that help us understand what affects air quality in different areas. The dataset is rich, allowing for comprehensive analysis and the application of various data analysis and machine learning techniques. The insights from this data can significantly impact urban planning, environmental policies, and public health strategies, ultimately contributing to better air quality and healthier communities.\n",
    "\n",
    "\n",
    "#### 2) How do you identify the problem you target to solve in your portfolio?\n",
    "\n",
    "The problem I wanted to solve became clear when I noticed that air quality is often not considered in public discussions and decision-making. Even though there are health risks from air pollution, this issue is usually not seen as important compared to other problems. Realizing this, I decided to look deeper into the dataset to find out what factors affect air quality. I also thought about the negative impact of low air quality on public health and the economy.\n",
    "\n",
    "Through data analysis, I wanted to find relationships between different air quality indicators and divide the data into \"good\" and \"bad\" categories. By using classification methods, I aimed to create a model that can predict air quality levels based on specific criteria. This approach is not only to raise awareness about air pollution but also to provide information that can help policymakers create better environmental regulations.\n",
    "\n",
    "I also looked at the social impact of air pollution, especially how it affects vulnerable communities. This is important because understanding the social effects can help in creating better policies that protect the health of those most affected by poor air quality.\n",
    "\n",
    "#### 3) The reason to choose your machine models in portfolio 4 and why these models are suitable for solving the problem you have raised\n",
    "\n",
    "In Portfolio 4, I chose several machine learning models like Logistic Regression, Decision Tree, K-Nearest Neighbors (K-NN), and One Nearest Neighbor (1-NN) because they work well for predicting air quality. Logistic Regression is simple and easy to understand, making it great for deciding if air quality is good or bad. It helps show how different pollution levels affect the likelihood of clean air. I included Decision Trees because they can handle complex relationships between factors, working well with both numerical and categorical data.\n",
    "\n",
    "K-Nearest Neighbors (K-NN) is another model I chose because it adapts well to various data patterns without needing strong assumptions. One Nearest Neighbor (1-NN) is effective since it looks at the closest example in the training data to make predictions. By using these models, I can compare their performance based on metrics like accuracy and F1-Score. This helps identify the best model for classifying air quality and leads to better understanding and recommendations for managing air quality.\n",
    "\n",
    "Choosing these models also allowed me to explore different perspectives on the data. Each model has its strengths and weaknesses, and comparing their results gave me a well-rounded understanding of how to approach classification tasks in future projects. I also learned about the importance of model evaluation, including cross-validation techniques to ensure my models were robust and generalizable.\n",
    "\n",
    "#### 4) Can you well explain the insights or conclusion you draw from your study? Is the result consistent with your intuitive expectation? \n",
    "\n",
    "From my analysis, I found that the Decision Tree model performed the best, achieving high accuracy and an impressive F1-Score. This shows the model effectively distinguishes between good and poor air quality. The importance of selecting the right features became clear, especially regarding CO and C6H6 levels, which significantly predicted air quality.\n",
    "\n",
    "Other models like Logistic Regression and K-NN also performed well, with slight differences in their metrics. Overall, the results aligned with my expectations; I suspected that key pollutant factors would heavily impact air quality. The analysis demonstrated that with the right data, we can understand air pollution dynamics better and devise strategies to mitigate its effects.\n",
    "\n",
    "This project highlights the importance of data-driven approaches in informing public health and environmental policies. The insights gained can serve as a foundation for further research and actions toward improving air quality and enhancing community health. I believe that by sharing these findings, we can contribute to better environmental practices and promote healthier living conditions.\n",
    "\n",
    "Looking forward, I plan to continue exploring air quality issues and how machine learning can provide solutions. I am motivated to deepen my understanding of how different pollutants interact and impact health outcomes. This ongoing exploration excites me and drives my commitment to using data for positive change."
   ]
  },
  {
   "cell_type": "code",
   "execution_count": null,
   "id": "2a8d6135-f3f6-4e2c-8f8c-e63cdd08a958",
   "metadata": {},
   "outputs": [],
   "source": []
  }
 ],
 "metadata": {
  "kernelspec": {
   "display_name": "Python 3 (ipykernel)",
   "language": "python",
   "name": "python3"
  },
  "language_info": {
   "codemirror_mode": {
    "name": "ipython",
    "version": 3
   },
   "file_extension": ".py",
   "mimetype": "text/x-python",
   "name": "python",
   "nbconvert_exporter": "python",
   "pygments_lexer": "ipython3",
   "version": "3.12.4"
  }
 },
 "nbformat": 4,
 "nbformat_minor": 5
}
